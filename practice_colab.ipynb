{
  "nbformat": 4,
  "nbformat_minor": 0,
  "metadata": {
    "colab": {
      "provenance": [],
      "include_colab_link": true
    },
    "kernelspec": {
      "name": "python3",
      "display_name": "Python 3"
    },
    "language_info": {
      "name": "python"
    }
  },
  "cells": [
    {
      "cell_type": "markdown",
      "metadata": {
        "id": "view-in-github",
        "colab_type": "text"
      },
      "source": [
        "<a href=\"https://colab.research.google.com/github/Ekta194/clob_python/blob/main/practice_colab.ipynb\" target=\"_parent\"><img src=\"https://colab.research.google.com/assets/colab-badge.svg\" alt=\"Open In Colab\"/></a>"
      ]
    },
    {
      "cell_type": "markdown",
      "source": [
        "NumPy Functions/methods:\n",
        "\n",
        "\n",
        "\n",
        "\n"
      ],
      "metadata": {
        "id": "gxppf37sjVnl"
      }
    },
    {
      "cell_type": "code",
      "source": [
        "import numpy as np\n",
        "import pandas as pd\n",
        "\n",
        "# Reshape an array\n",
        "arr = np.array([1, 2, 3, 4, 5, 6])\n",
        "reshaped_arr = np.reshape(arr, (3, 2))\n",
        "print(reshaped_arr)\n",
        "\n",
        "# Transpose an array\n",
        "arr = np.array([[1, 2, 3], [4, 5, 6]])\n",
        "transposed_arr = np.transpose(arr)\n",
        "print(transposed_arr)\n",
        "\n",
        "# Concatenate two arrays\n",
        "arr1 = np.array([1, 2, 3])\n",
        "arr2 = np.array([4, 5, 6])\n",
        "concatenated_arr = np.concatenate((arr1, arr2))\n",
        "print(concatenated_arr)\n",
        "\n",
        "# Split an array into sub-arrays\n",
        "arr = np.array([1, 2, 3, 4, 5, 6])\n",
        "sub_arrays = np.split(arr, 3)\n",
        "print(sub_arrays)\n",
        "\n",
        "# Resize an array\n",
        "arr = np.array([1, 2, 3])\n",
        "resized_arr = np.resize(arr, (2, 2))\n",
        "print(resized_arr)\n"
      ],
      "metadata": {
        "colab": {
          "base_uri": "https://localhost:8080/"
        },
        "id": "Mo7hylVPes-5",
        "outputId": "e249455d-f69b-4f50-d5ca-f534cf0b5e3a"
      },
      "execution_count": null,
      "outputs": [
        {
          "output_type": "stream",
          "name": "stdout",
          "text": [
            "[[1 2]\n",
            " [3 4]\n",
            " [5 6]]\n",
            "[[1 4]\n",
            " [2 5]\n",
            " [3 6]]\n",
            "[1 2 3 4 5 6]\n",
            "[array([1, 2]), array([3, 4]), array([5, 6])]\n",
            "[[1 2]\n",
            " [3 1]]\n"
          ]
        }
      ]
    },
    {
      "cell_type": "code",
      "source": [
        "import numpy as np\n",
        "\n",
        "# Compute the exponential of array elements\n",
        "arr = np.array([1, 2, 3])\n",
        "exp_arr = np.exp(arr)\n",
        "print(exp_arr)\n",
        "\n",
        "# Compute the natural logarithI apologize for the incomplete response. Here are the remaining examples of mathematical functions:\n",
        "\n",
        "# Compute the natural logarithm of array elements\n",
        "arr = np.array([1, 2, 3])\n",
        "log_arr = np.log(arr)\n",
        "print(log_arr)\n",
        "\n",
        "# Compute the sine of array elements\n",
        "arr = np.array([0, np.pi/2, np.pi])\n",
        "sin_arr = np.sin(arr)\n",
        "print(sin_arr)\n",
        "\n",
        "# Compute the cosine of array elements\n",
        "cos_arr = np.cos(arr)\n",
        "print(cos_arr)\n",
        "\n",
        "# Compute the square root of array elements\n",
        "arr = np.array([4, 9, 16])\n",
        "sqrt_arr = np.sqrt(arr)\n",
        "print(sqrt_arr)\n",
        "\n",
        "\n",
        "\n",
        "\n"
      ],
      "metadata": {
        "colab": {
          "base_uri": "https://localhost:8080/"
        },
        "id": "-R5sFNovfcDU",
        "outputId": "5083e246-bd94-41f9-c754-0861eed95328"
      },
      "execution_count": null,
      "outputs": [
        {
          "output_type": "stream",
          "name": "stdout",
          "text": [
            "[ 2.71828183  7.3890561  20.08553692]\n",
            "[0.         0.69314718 1.09861229]\n",
            "[0.0000000e+00 1.0000000e+00 1.2246468e-16]\n",
            "[ 1.000000e+00  6.123234e-17 -1.000000e+00]\n",
            "[2. 3. 4.]\n"
          ]
        }
      ]
    },
    {
      "cell_type": "code",
      "source": [
        "# Reshape an array\n",
        "arr = np.array([1, 2, 3, 4, 5, 6])\n",
        "reshaped_arr = np.reshape(arr, (2, 3))\n",
        "print(reshaped_arr)"
      ],
      "metadata": {
        "colab": {
          "base_uri": "https://localhost:8080/"
        },
        "id": "dxa7FUfMYihC",
        "outputId": "95053bee-ca87-43d3-d621-06a108a63062"
      },
      "execution_count": null,
      "outputs": [
        {
          "output_type": "stream",
          "name": "stdout",
          "text": [
            "[[1 2 3]\n",
            " [4 5 6]]\n"
          ]
        }
      ]
    },
    {
      "cell_type": "code",
      "source": [
        "# Transpose an array\n",
        "arr = np.array([[1, 2, 3], [4, 5, 6]])\n",
        "print(arr)\n",
        "transposed_arr = np.transpose(arr)\n",
        "print(transposed_arr)"
      ],
      "metadata": {
        "colab": {
          "base_uri": "https://localhost:8080/"
        },
        "id": "hDQT7Ng82CM6",
        "outputId": "fbdcffa1-5b3e-4558-c683-e63bd8c12590"
      },
      "execution_count": null,
      "outputs": [
        {
          "output_type": "stream",
          "name": "stdout",
          "text": [
            "[[1 2 3]\n",
            " [4 5 6]]\n",
            "[[1 4]\n",
            " [2 5]\n",
            " [3 6]]\n"
          ]
        }
      ]
    },
    {
      "cell_type": "code",
      "source": [
        "# Concatenate two arrays\n",
        "arr1 = np.array([1, 2, 3])\n",
        "arr2 = np.array([4, 5, 6])\n",
        "concatenated_arr = np.concatenate((arr1, arr2))\n",
        "print(concatenated_arr)"
      ],
      "metadata": {
        "colab": {
          "base_uri": "https://localhost:8080/"
        },
        "id": "to8KctSN2gZs",
        "outputId": "af0e468d-3622-49e3-bb84-1e49f783d5fe"
      },
      "execution_count": null,
      "outputs": [
        {
          "output_type": "stream",
          "name": "stdout",
          "text": [
            "[1 2 3 4 5 6]\n"
          ]
        }
      ]
    },
    {
      "cell_type": "code",
      "source": [
        "# Resize an array\n",
        "arr = np.array([1, 2, 3])\n",
        "resized_arr = np.resize(arr, (3, 5))\n",
        "print(resized_arr)"
      ],
      "metadata": {
        "colab": {
          "base_uri": "https://localhost:8080/"
        },
        "id": "a_3P4XEF2smP",
        "outputId": "c2b3c116-f4db-473c-a782-f3941182e4c9"
      },
      "execution_count": null,
      "outputs": [
        {
          "output_type": "stream",
          "name": "stdout",
          "text": [
            "[[1 2 3 1 2]\n",
            " [3 1 2 3 1]\n",
            " [2 3 1 2 3]]\n"
          ]
        }
      ]
    },
    {
      "cell_type": "markdown",
      "source": [
        "Below is a demonstration of how pandas deals with strings mixed in with quantitative data."
      ],
      "metadata": {
        "id": "WegJAoqI_igj"
      }
    },
    {
      "cell_type": "code",
      "source": [
        "df = pd.DataFrame({'column 1': [6.5, 7.8, 9],'column 2':[5,8,10],'column 3':[5,8.2,'fifty-five']})\n",
        "df.info()"
      ],
      "metadata": {
        "colab": {
          "base_uri": "https://localhost:8080/"
        },
        "id": "2_Wzye4r_hVk",
        "outputId": "bc929eda-df46-4092-bd31-1b8c60228120"
      },
      "execution_count": null,
      "outputs": [
        {
          "output_type": "stream",
          "name": "stdout",
          "text": [
            "<class 'pandas.core.frame.DataFrame'>\n",
            "RangeIndex: 3 entries, 0 to 2\n",
            "Data columns (total 3 columns):\n",
            " #   Column    Non-Null Count  Dtype  \n",
            "---  ------    --------------  -----  \n",
            " 0   column 1  3 non-null      float64\n",
            " 1   column 2  3 non-null      int64  \n",
            " 2   column 3  3 non-null      object \n",
            "dtypes: float64(1), int64(1), object(1)\n",
            "memory usage: 200.0+ bytes\n"
          ]
        }
      ]
    },
    {
      "cell_type": "code",
      "source": [
        "type(df.iloc[2]['column 3'])"
      ],
      "metadata": {
        "colab": {
          "base_uri": "https://localhost:8080/"
        },
        "id": "AQs4YGYui134",
        "outputId": "5f16cc38-85fc-4c46-ed35-4ebaa8e71fab"
      },
      "execution_count": null,
      "outputs": [
        {
          "output_type": "execute_result",
          "data": {
            "text/plain": [
              "str"
            ]
          },
          "metadata": {},
          "execution_count": 7
        }
      ]
    },
    {
      "cell_type": "markdown",
      "source": [
        "In the above scenario, the following implamentation simply won't work:"
      ],
      "metadata": {
        "id": "0bctBED8CXXR"
      }
    },
    {
      "cell_type": "code",
      "source": [
        "\n",
        "\n",
        "# Example DataFrame\n",
        "df = pd.DataFrame({'Number': ['1,000', '2,500', '3,750']})\n",
        "df.info()\n",
        "print(type(df.iloc[2]['Number']))\n",
        "# Convert string-based column to float-based column\n",
        "df['Number'] = df['Number'].str.replace(',', '').astype(float)\n",
        "\n",
        "# Display the updated DataFrame\n",
        "print(df)\n",
        "df.info()\n"
      ],
      "metadata": {
        "colab": {
          "base_uri": "https://localhost:8080/"
        },
        "id": "rCAx0Ga2ArLo",
        "outputId": "60545f06-9b40-4c36-a091-b85eeb55dc85"
      },
      "execution_count": null,
      "outputs": [
        {
          "output_type": "stream",
          "name": "stdout",
          "text": [
            "<class 'pandas.core.frame.DataFrame'>\n",
            "RangeIndex: 3 entries, 0 to 2\n",
            "Data columns (total 1 columns):\n",
            " #   Column  Non-Null Count  Dtype \n",
            "---  ------  --------------  ----- \n",
            " 0   Number  3 non-null      object\n",
            "dtypes: object(1)\n",
            "memory usage: 152.0+ bytes\n",
            "<class 'str'>\n",
            "   Number\n",
            "0  1000.0\n",
            "1  2500.0\n",
            "2  3750.0\n",
            "<class 'pandas.core.frame.DataFrame'>\n",
            "RangeIndex: 3 entries, 0 to 2\n",
            "Data columns (total 1 columns):\n",
            " #   Column  Non-Null Count  Dtype  \n",
            "---  ------  --------------  -----  \n",
            " 0   Number  3 non-null      float64\n",
            "dtypes: float64(1)\n",
            "memory usage: 152.0 bytes\n"
          ]
        }
      ]
    },
    {
      "cell_type": "markdown",
      "source": [
        "We'll benefit from the following function:"
      ],
      "metadata": {
        "id": "e1p38MDZHvBD"
      }
    },
    {
      "cell_type": "code",
      "source": [
        "import re\n",
        "\n",
        "def contains_non_numeric(string):\n",
        "    pattern = r'[^0-9,.]'\n",
        "    return re.search(pattern, string) is not None\n"
      ],
      "metadata": {
        "id": "uHms2lRAHyb-"
      },
      "execution_count": null,
      "outputs": []
    },
    {
      "cell_type": "code",
      "source": [
        "contains_non_numeric('fifty-five')\n"
      ],
      "metadata": {
        "colab": {
          "base_uri": "https://localhost:8080/"
        },
        "id": "ZzIqsQV1H0bJ",
        "outputId": "56d202f6-fbfa-4c09-b46d-6da55afa879f"
      },
      "execution_count": null,
      "outputs": [
        {
          "output_type": "execute_result",
          "data": {
            "text/plain": [
              "True"
            ]
          },
          "metadata": {},
          "execution_count": 19
        }
      ]
    },
    {
      "cell_type": "markdown",
      "source": [
        "Or..."
      ],
      "metadata": {
        "id": "tRvzNKH0Lwsy"
      }
    },
    {
      "cell_type": "code",
      "source": [
        "int('9,00k00'.replace(',',''))"
      ],
      "metadata": {
        "colab": {
          "base_uri": "https://localhost:8080/",
          "height": 169
        },
        "id": "nh8vhZLZK767",
        "outputId": "8c5e745c-9981-47cd-bacd-5a8ec7f1af8e"
      },
      "execution_count": null,
      "outputs": [
        {
          "output_type": "error",
          "ename": "ValueError",
          "evalue": "ignored",
          "traceback": [
            "\u001b[0;31m---------------------------------------------------------------------------\u001b[0m",
            "\u001b[0;31mValueError\u001b[0m                                Traceback (most recent call last)",
            "\u001b[0;32m<ipython-input-34-7cf0e978e9bf>\u001b[0m in \u001b[0;36m<cell line: 1>\u001b[0;34m()\u001b[0m\n\u001b[0;32m----> 1\u001b[0;31m \u001b[0mint\u001b[0m\u001b[0;34m(\u001b[0m\u001b[0;34m'9,00k00'\u001b[0m\u001b[0;34m.\u001b[0m\u001b[0mreplace\u001b[0m\u001b[0;34m(\u001b[0m\u001b[0;34m','\u001b[0m\u001b[0;34m,\u001b[0m\u001b[0;34m''\u001b[0m\u001b[0;34m)\u001b[0m\u001b[0;34m)\u001b[0m\u001b[0;34m\u001b[0m\u001b[0;34m\u001b[0m\u001b[0m\n\u001b[0m",
            "\u001b[0;31mValueError\u001b[0m: invalid literal for int() with base 10: '900k00'"
          ]
        }
      ]
    },
    {
      "cell_type": "markdown",
      "source": [],
      "metadata": {
        "id": "wiJl_o0qpK91"
      }
    },
    {
      "cell_type": "markdown",
      "source": [
        "Using a Lambda function on multiple rows simultaneously:"
      ],
      "metadata": {
        "id": "jhm6kNmPQZin"
      }
    },
    {
      "cell_type": "code",
      "source": [
        "import pandas as pd\n",
        "\n",
        "data = {'A': [1, 2, 3, 4, 5], 'B': [10, 20, 30, 40, 50]}\n",
        "df = pd.DataFrame(data)\n",
        "\n",
        "# Define the lambda function to operate on multiple columns\n",
        "function = lambda row: row['A'] * 2 + row['B']\n",
        "\n",
        "# Apply the lambda function to create the new column\n",
        "df['C'] = df.apply(function, axis=1)\n",
        "\n",
        "# Display the updated DataFrame\n",
        "print(df)\n"
      ],
      "metadata": {
        "colab": {
          "base_uri": "https://localhost:8080/"
        },
        "id": "eCIGI1tvNA8j",
        "outputId": "d071fb5d-22ca-45e3-e01e-287e1c9cd399"
      },
      "execution_count": null,
      "outputs": [
        {
          "output_type": "stream",
          "name": "stdout",
          "text": [
            "   A   B   C\n",
            "0  1  10  12\n",
            "1  2  20  24\n",
            "2  3  30  36\n",
            "3  4  40  48\n",
            "4  5  50  60\n"
          ]
        }
      ]
    },
    {
      "cell_type": "code",
      "source": [
        "import pandas as pd\n",
        "import numpy as np\n",
        "\n",
        "data = {'A': [1, 2, 3, 4, 5], 'B': [10, 20, 30, 40, 50]}\n",
        "df = pd.DataFrame(data)\n",
        "\n",
        "# Define the conditions\n",
        "conditions = [\n",
        "    df['A'] < 3,\n",
        "    df['A'] >= 3\n",
        "]\n",
        "\n",
        "# Define the functions corresponding to each condition\n",
        "def function1(x):\n",
        "    return x * 2\n",
        "\n",
        "def function2(x):\n",
        "    return x + 5\n",
        "\n",
        "# Vectorize the functions\n",
        "vectorized_function1 = np.vectorize(function1)\n",
        "vectorized_function2 = np.vectorize(function2)\n",
        "\n",
        "# Apply the functions based on the conditions and create the new column\n",
        "df['C'] = np.select(conditions, [vectorized_function1(df['A']), vectorized_function2(df['B'])], default=np.nan)\n",
        "\n",
        "# Display the updated DataFrame\n",
        "print(df)\n"
      ],
      "metadata": {
        "colab": {
          "base_uri": "https://localhost:8080/"
        },
        "id": "BY4_MJmbS2jv",
        "outputId": "01f6a2d7-a17f-4c95-c3ea-45c3f9378e94"
      },
      "execution_count": null,
      "outputs": [
        {
          "output_type": "stream",
          "name": "stdout",
          "text": [
            "   A   B\n",
            "0  1  10\n",
            "1  2  20\n",
            "2  3  30\n",
            "3  4  40\n",
            "4  5  50\n"
          ]
        }
      ]
    },
    {
      "cell_type": "code",
      "source": [
        "import pandas as pd\n",
        "import numpy as np\n",
        "\n",
        "data = {'A': [1, 2, 3, 4, 5], 'B': [10, 20, 30, 40, 50]}\n",
        "df = pd.DataFrame(data)\n",
        "df\n",
        "# Define the conditions\n",
        "conditions = [\n",
        "    df['A'] < 3,\n",
        "    df['A'] >= 3\n",
        "]\n",
        "\n",
        "# Define the functions corresponding to each condition\n",
        "def function1(df):\n",
        "    return df['A'] * 2 + df['B']\n",
        "\n",
        "def function2(df):\n",
        "    return df['A'] + df['B'] * 2\n",
        "\n",
        "# Apply the functions based on the conditions and create the new column\n",
        "df['C'] = np.select(conditions, [function1(df), function2(df)], default=np.nan)\n",
        "\n",
        "# Display the updated DataFrame\n",
        "print(df)\n"
      ],
      "metadata": {
        "colab": {
          "base_uri": "https://localhost:8080/"
        },
        "id": "OaXgw4rOZgIj",
        "outputId": "cce1247c-adbd-4186-b178-0dfcc7f6175c"
      },
      "execution_count": null,
      "outputs": [
        {
          "output_type": "stream",
          "name": "stdout",
          "text": [
            "   A   B      C\n",
            "0  1  10   12.0\n",
            "1  2  20   24.0\n",
            "2  3  30   63.0\n",
            "3  4  40   84.0\n",
            "4  5  50  105.0\n"
          ]
        }
      ]
    },
    {
      "cell_type": "code",
      "source": [
        "# Check if values in column 'A' are NaN\n",
        "df['A'].isna()[3]\n"
      ],
      "metadata": {
        "id": "UdU02ICqeAeT",
        "colab": {
          "base_uri": "https://localhost:8080/"
        },
        "outputId": "3424c573-b668-4b28-8d9e-fab7c836a886"
      },
      "execution_count": null,
      "outputs": [
        {
          "output_type": "execute_result",
          "data": {
            "text/plain": [
              "False"
            ]
          },
          "metadata": {},
          "execution_count": 37
        }
      ]
    }
  ]
}