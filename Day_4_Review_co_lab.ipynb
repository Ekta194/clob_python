{
  "nbformat": 4,
  "nbformat_minor": 0,
  "metadata": {
    "colab": {
      "provenance": [],
      "include_colab_link": true
    },
    "kernelspec": {
      "name": "python3",
      "display_name": "Python 3"
    },
    "language_info": {
      "name": "python"
    }
  },
  "cells": [
    {
      "cell_type": "markdown",
      "metadata": {
        "id": "view-in-github",
        "colab_type": "text"
      },
      "source": [
        "<a href=\"https://colab.research.google.com/github/Ekta194/clob_python/blob/main/Day_4_Review_co_lab.ipynb\" target=\"_parent\"><img src=\"https://colab.research.google.com/assets/colab-badge.svg\" alt=\"Open In Colab\"/></a>"
      ]
    },
    {
      "cell_type": "code",
      "execution_count": null,
      "metadata": {
        "id": "sysw3Xa3LdmW"
      },
      "outputs": [],
      "source": []
    },
    {
      "cell_type": "markdown",
      "source": [
        "Python Offers a variety of basic data types that we can do some basic operations on. Tinkering and experimenting with data comes highly recommended"
      ],
      "metadata": {
        "id": "tsmVPGgiLmT0"
      }
    },
    {
      "cell_type": "code",
      "source": [
        "#strings\n",
        "my_string = 'fdfsdfsdfsdfsfd'\n",
        "another_string = 'some string'\n",
        "#ints\n",
        "my_int = 4\n",
        "another_int = 347\n",
        "#floats\n",
        "my_float = 23.17\n",
        "another_float = 71.9\n",
        "#booleans\n",
        "my_bool = True\n",
        "another_bool = False\n",
        "yet_another_bool = (4 == 6)"
      ],
      "metadata": {
        "id": "tHPBTzFenSRX"
      },
      "execution_count": null,
      "outputs": []
    },
    {
      "cell_type": "markdown",
      "source": [
        "We can see the variety of built in method's to use on Strings:"
      ],
      "metadata": {
        "id": "A4FfIe0K1xB1"
      }
    },
    {
      "cell_type": "code",
      "source": [
        "\n",
        "\n",
        "# Length of the string\n",
        "#print(len(my_string))\n",
        "\n",
        "# Accessing individual characters using indexing\n",
        "#print(my_string[0])     # Output: 'f'\n",
        "#print(another_string[5])  # Output: 's'\n",
        "\n",
        "# Slicing a string\n",
        "#print(my_string[2:14])     # Output: 'fds'\n",
        "#print(another_string[0:])  # Output: 'me string'\n",
        "\n",
        "# Concatenating strings\n",
        "#concatenated = my_string + another_string\n",
        "#print(concatenated)       # Output: 'fdfsdfsdfsdfsfdsome string'\n",
        "#print('abc'+'def')\n",
        "# Converting to uppercase or lowercase\n",
        "#print(my_string.upper())    # Output: 'FDFSDFSDFSDFSFD'\n",
        "#print('ASAFD!&'.lower())  #\n",
        "#print(\"doijhgjh\".title())\n",
        "# Checking if a string starts or ends with a specific substring\n",
        "#print(my_string.startswith('fdfa'))   # Output: True\n",
        "#print(another_string.endswith('ing'))  # Output: True\n",
        "\n",
        "# Splitting a string into a list of substrings\n",
        "#split_string = another_string.split('m')\n",
        "#print(split_string)      # Output: ['some', 'string']\n",
        "\n",
        "# Replacing substrings\n",
        "#replaced_string = my_string.replace('fd', 'xyz')\n",
        "#print(replaced_string)   # Output: 'xyzsdfsdfsdfsxyzsfd'\n",
        "\n",
        "# Finding the index of a substring\n",
        "#print(another_string.index('some'))   # Output: 5\n",
        "\n",
        "# Counting occurrences of a substring\n",
        "print(my_string.count('sfd'))   # Output: 2\n"
      ],
      "metadata": {
        "colab": {
          "base_uri": "https://localhost:8080/"
        },
        "id": "sn5FE7iEo2cd",
        "outputId": "818ba5ea-3a06-4964-961f-c5c764a49581"
      },
      "execution_count": null,
      "outputs": [
        {
          "output_type": "stream",
          "name": "stdout",
          "text": [
            "1\n"
          ]
        }
      ]
    },
    {
      "cell_type": "markdown",
      "source": [
        "This method for counting occurences of a substring allows for a \"rules-based\" sentiment analysis of text.\n",
        "Incidently this allows us to make good use of functions and if/else logic."
      ],
      "metadata": {
        "id": "Y0XqBjJ4Owj9"
      }
    },
    {
      "cell_type": "code",
      "source": [
        "def sentiment_detection(sentence):\n",
        "  positive = False\n",
        "  negative = False\n",
        "  for i in ('happy', 'sunny', 'positive','triumphant','optimistic','wonderful'):\n",
        "    if sentence.count(i) > 0:\n",
        "      positive = True\n",
        "  for i in ('sad','terrible','frightening','rainy','scary'):\n",
        "    if sentence.count(i) > 0:\n",
        "      negative = True\n",
        "  if positive == negative == False:\n",
        "    return \"neutral\"\n",
        "  elif positive == True != negative:\n",
        "    return \"positive\"\n",
        "  elif negative == True != positive:\n",
        "    return 'negative'\n",
        "  else:\n",
        "    return \"mixed\""
      ],
      "metadata": {
        "id": "WS0m8VJNOvec"
      },
      "execution_count": null,
      "outputs": []
    },
    {
      "cell_type": "code",
      "source": [
        "sentiment_detection(\"It is rainy\")"
      ],
      "metadata": {
        "colab": {
          "base_uri": "https://localhost:8080/",
          "height": 35
        },
        "id": "WXkn-tNKejbw",
        "outputId": "91761e27-f8ad-4197-9c67-c7a07daa1919"
      },
      "execution_count": null,
      "outputs": [
        {
          "output_type": "execute_result",
          "data": {
            "text/plain": [
              "'negative'"
            ],
            "application/vnd.google.colaboratory.intrinsic+json": {
              "type": "string"
            }
          },
          "metadata": {},
          "execution_count": 55
        }
      ]
    },
    {
      "cell_type": "markdown",
      "source": [
        "We can run different methods on Ints"
      ],
      "metadata": {
        "id": "8zjXIoLhtUHe"
      }
    },
    {
      "cell_type": "code",
      "source": [
        "\n",
        "\n",
        "# Converting an integer to a string\n",
        "#print(str(my_int))       # Output: '4'\n",
        "#print(str(another_int))  # Output: '347'\n",
        "\n",
        "# Finding the absolute value\n",
        "#print(abs(-5))           # Output: 5\n",
        "#print(abs(-10.5))        # Output: 10.5\n",
        "\n",
        "# Performing arithmetic operations\n",
        "#print(my_int + another_int)  # Output: 351\n",
        "#print(my_int * another_int)  # Output: 1388\n",
        "#print(my_int / another_int)  # Output: 0.011507965444679398\n",
        "\n",
        "# Checking if an integer is even or odd\n",
        "#print(my_int % 2 == 0)       # Output: True\n",
        "#print(another_int % 2 == 0)  # Output: False\n",
        "\n",
        "# Checking if an integer is positive, negative, or zero\n",
        "#print(my_int > 0)            # Output: True\n",
        "#print(another_int < 0)       # Output: False\n",
        "#print(my_int == 0)           # Output: False\n",
        "\n",
        "# Raising an integer to a power\n",
        "#print(my_int ** 2)           # Output: 16\n",
        "#print(another_int ** 3)      # Output: 43046723\n",
        "#print(my_int**(1/2))\n",
        "#Checking if an integer is divisible by another integer\n",
        "#print(another_int % 7 == 0)  # Output: True\n"
      ],
      "metadata": {
        "colab": {
          "base_uri": "https://localhost:8080/"
        },
        "id": "0ettbYdIidmH",
        "outputId": "aa2524f4-bdba-4325-8ad5-084f51d5efd2"
      },
      "execution_count": null,
      "outputs": [
        {
          "output_type": "stream",
          "name": "stdout",
          "text": [
            "False\n"
          ]
        }
      ]
    },
    {
      "cell_type": "markdown",
      "source": [
        "We can run different methods on Floats"
      ],
      "metadata": {
        "id": "fjfMSKW01Ivk"
      }
    },
    {
      "cell_type": "code",
      "source": [
        "\n",
        "\n",
        "\n",
        "# Rounding a float to a specified number of decimal places\n",
        "#print(round(my_float, 1))              # Output: 23.2\n",
        "#print(round(another_float, 2))         # Output: 71.9\n",
        "\n",
        "# Getting the fractional and integer parts of a float\n",
        "#print(3.0).is_integer())           # Output: False\n",
        "#print((2.5).as_integer_ratio())     # Output: (2793604999065161, 1208925819614629174706176)\n",
        "# print(another_float.as_integer_ratio())# Output: (5870264259746659, 8192)\n",
        "\n",
        "\n",
        "# Converting a float to an integer (rounded towards zero)\n",
        "# print(int(my_float))                   # Output: 23\n",
        "# print(int(another_float))              # Output: 71\n",
        "\n",
        "\n",
        "# Getting the absolute value of a float\n",
        "# print(abs(my_float))                   # Output: 23.17\n",
        "# print(abs(another_float))              # Output: 71.9\n",
        "\n",
        "# Converting a float to a string with specific formatting\n",
        "#print(format(my_float, '.2f'))         # Output: '23.17'\n",
        "#print(format(another_float, '.1f'))    # Output: '71.9'\n",
        "\n",
        "# Performing mathematical functions on floats\n",
        "#import math\n",
        "#print(math.sqrt(4))             # Output: 4.812618965552178\n",
        "#print(math.sin(3.14/2))         # Output: -0.48514693710658093\n",
        "#print(math.exp(my_float))              # Output: 6.897427948654809e+09\n",
        "\n"
      ],
      "metadata": {
        "colab": {
          "base_uri": "https://localhost:8080/"
        },
        "id": "67Pyd_BOieBL",
        "outputId": "182099d4-09b2-4796-c01e-30329d5c81ec"
      },
      "execution_count": null,
      "outputs": [
        {
          "output_type": "stream",
          "name": "stdout",
          "text": [
            "2.0\n",
            "0.9999996829318346\n",
            "11550562800.00226\n"
          ]
        }
      ]
    },
    {
      "cell_type": "markdown",
      "source": [
        "There are a variety of methods and codes we can run with booleans that have surprising results"
      ],
      "metadata": {
        "id": "q6gKV0428qFt"
      }
    },
    {
      "cell_type": "code",
      "source": [
        "# Boolean literals\n",
        "#print(True)      # Output: True\n",
        "# print(False)     # Output: False\n",
        "\n",
        "# Boolean comparisons\n",
        "# print(2 > 1)     # Output: True\n",
        "# print(3 == 3.0)  # Output: True\n",
        "#print(5 != 5)    # Output: False\n",
        "\n",
        "# Boolean logical operators\n",
        "#print(True and False)     # Output: False\n",
        "#print(True or False)      # Output: True\n",
        "# print(not True)           # Output: False\n",
        "\n",
        "\n",
        "# Converting a boolean to an integer or string\n",
        "#print(int(True))          # Output: 1\n",
        "#print(int(False))         # Output: 0\n",
        "\n",
        "#Math with Booleans\n",
        "#print(True+True+False)\n",
        "#print(True+True)\n",
        "#print(True*3)\n",
        "#print(True*False)\n",
        "\n",
        "# Boolean operations with lists\n",
        "my_list = [1, 2, 3]\n",
        "#print(2 in my_list)       # Output: True\n",
        "#print(4 in my_list)       # Output: False\n",
        "\n",
        "\n",
        "# Boolean operations with sets\n",
        "my_set = {1, 2, 3}\n",
        "print(2 in my_set)        # Output: True\n",
        "print(4 in my_set)        # Output: False\n",
        "\n",
        "\n"
      ],
      "metadata": {
        "id": "vWj2UROTieEV",
        "colab": {
          "base_uri": "https://localhost:8080/"
        },
        "outputId": "0888b38c-5aa5-4e69-a81f-b813afb39b28"
      },
      "execution_count": null,
      "outputs": [
        {
          "output_type": "stream",
          "name": "stdout",
          "text": [
            "True\n",
            "False\n"
          ]
        }
      ]
    },
    {
      "cell_type": "markdown",
      "source": [
        "There is an efficient alternative to for-loops called comprehensions. The logic is very similar from a coding perspective, some consider the comprehensions more readable, and often times they may run faster."
      ],
      "metadata": {
        "id": "GIjTwcTyBu39"
      }
    },
    {
      "cell_type": "code",
      "source": [
        "#for loop\n",
        "numbers = [1, 2, 3, 4, 5]\n",
        "squared_numbers = []\n",
        "for num in numbers:\n",
        "    squared_numbers.append(num ** 2)\n",
        "print(squared_numbers)  # Output: [1, 4, 9, 16, 25]\n"
      ],
      "metadata": {
        "colab": {
          "base_uri": "https://localhost:8080/"
        },
        "id": "tO-t3GdmieHM",
        "outputId": "5a995db4-6987-471e-ebb3-ff1d7478f1b1"
      },
      "execution_count": null,
      "outputs": [
        {
          "output_type": "stream",
          "name": "stdout",
          "text": [
            "[1, 4, 9, 16, 25]\n"
          ]
        }
      ]
    },
    {
      "cell_type": "code",
      "source": [
        "#comprehension\n",
        "numbers = [1, 2, 3, 4, 5]\n",
        "squared_numbers = [num ** 2 for num in numbers]\n",
        "print(squared_numbers)  # Output: [1, 4, 9, 16, 25]\n",
        "\n"
      ],
      "metadata": {
        "colab": {
          "base_uri": "https://localhost:8080/"
        },
        "id": "OjHIpPscieJy",
        "outputId": "9fcebc98-3627-43bd-feb5-21d02a136dda"
      },
      "execution_count": null,
      "outputs": [
        {
          "output_type": "stream",
          "name": "stdout",
          "text": [
            "[1, 4, 9, 16, 25]\n"
          ]
        }
      ]
    },
    {
      "cell_type": "code",
      "source": [
        "#for loop\n",
        "numbers = [1, 2, 3, 4, 5]\n",
        "even_numbers = []\n",
        "for num in numbers:\n",
        "    if num % 2 == 0:\n",
        "        even_numbers.append(num)\n",
        "print(even_numbers)  # Output: [2, 4]\n"
      ],
      "metadata": {
        "id": "XlKCIFYgieMI",
        "colab": {
          "base_uri": "https://localhost:8080/"
        },
        "outputId": "67ff062c-9f61-4060-b63b-86ab03d5d974"
      },
      "execution_count": null,
      "outputs": [
        {
          "output_type": "stream",
          "name": "stdout",
          "text": [
            "[2, 4]\n"
          ]
        }
      ]
    },
    {
      "cell_type": "code",
      "source": [
        "#comprehension\n",
        "numbers = [1, 2, 3, 4, 5]\n",
        "even_numbers = [num for num in numbers if num % 2 == 0]\n",
        "print(even_numbers)  # Output: [2, 4]\n"
      ],
      "metadata": {
        "id": "aX4rLd5NieOe",
        "colab": {
          "base_uri": "https://localhost:8080/"
        },
        "outputId": "3ee4277c-1e57-414b-d90d-aa92af75c376"
      },
      "execution_count": null,
      "outputs": [
        {
          "output_type": "stream",
          "name": "stdout",
          "text": [
            "[2, 4]\n"
          ]
        }
      ]
    },
    {
      "cell_type": "code",
      "source": [
        "#for loop\n",
        "names = ['Alice', 'Bob', 'Charlie']\n",
        "uppercase_names = []\n",
        "for name in names:\n",
        "    uppercase_names.append(name.upper())\n",
        "print(uppercase_names)  # Output: ['ALICE', 'BOB', 'CHARLIE']\n"
      ],
      "metadata": {
        "id": "MbA9qDdkieQs",
        "colab": {
          "base_uri": "https://localhost:8080/"
        },
        "outputId": "4f0d1c49-ee21-430f-d34a-b741f83119d5"
      },
      "execution_count": null,
      "outputs": [
        {
          "output_type": "stream",
          "name": "stdout",
          "text": [
            "['ALICE', 'BOB', 'CHARLIE']\n"
          ]
        }
      ]
    },
    {
      "cell_type": "code",
      "source": [
        "#comprehension\n",
        "names = ['Alice', 'Bob', 'Charlie']\n",
        "uppercase_names = [name.upper() for name in names]\n",
        "print(uppercase_names)  # Output: ['ALICE', 'BOB', 'CHARLIE']\n"
      ],
      "metadata": {
        "id": "0qBbZsVYC8k9",
        "colab": {
          "base_uri": "https://localhost:8080/"
        },
        "outputId": "ec9434b2-5f23-4e2b-c50c-784edbff8c7d"
      },
      "execution_count": null,
      "outputs": [
        {
          "output_type": "stream",
          "name": "stdout",
          "text": [
            "['ALICE', 'BOB', 'CHARLIE']\n"
          ]
        }
      ]
    },
    {
      "cell_type": "markdown",
      "source": [
        "As seen previously NumPy provides efficient ways for doing opperations on data that would otherwise be difficult. One of the biggest fundamental advantages of NumPy is how it '*vectorizes*' operations. Such operations don't require a lengthy process of iterating over a data-structure, but instead take advantage of low-level code where an operation may be applied to every element in a data-structure in parallel."
      ],
      "metadata": {
        "id": "_s3rtXicQXjM"
      }
    },
    {
      "cell_type": "code",
      "source": [
        "\n",
        "# Using for-loops\n",
        "\n",
        "a = [1, 2, 3]\n",
        "b = [4, 5, 6]\n",
        "result = []\n",
        "for i in range(len(a)):\n",
        "    result.append(a[i] * b[i])\n",
        "print(result)  # Output: [4, 10, 18]\n"
      ],
      "metadata": {
        "colab": {
          "base_uri": "https://localhost:8080/"
        },
        "id": "bb2UZ30bQWY6",
        "outputId": "bafdd103-373e-4c51-edd2-42ab1e279794"
      },
      "execution_count": null,
      "outputs": [
        {
          "output_type": "stream",
          "name": "stdout",
          "text": [
            "[4, 10, 18]\n"
          ]
        }
      ]
    },
    {
      "cell_type": "code",
      "source": [
        "# Using NumPy arrays\n",
        "import numpy as np\n",
        "\n",
        "a = np.array([1, 2, 3])\n",
        "b = np.array([4, 5, 6])\n",
        "result = a * b\n",
        "print(result)  # Output: [4 10 18]"
      ],
      "metadata": {
        "colab": {
          "base_uri": "https://localhost:8080/"
        },
        "id": "60h1-ebCaUe4",
        "outputId": "ad595761-bf0a-48be-8961-72b8a46e8dbc"
      },
      "execution_count": null,
      "outputs": [
        {
          "output_type": "stream",
          "name": "stdout",
          "text": [
            "[ 4 10 18]\n"
          ]
        }
      ]
    },
    {
      "cell_type": "code",
      "source": [
        "# Using for-loops\n",
        "import numpy as np\n",
        "\n",
        "a = [1, 2, 3, 4, 5]\n",
        "sum_result = 0\n",
        "for num in a:\n",
        "    sum_result += num\n",
        "print(sum_result)  # Output: 15\n"
      ],
      "metadata": {
        "colab": {
          "base_uri": "https://localhost:8080/"
        },
        "id": "wErOnNsUaUtD",
        "outputId": "cf18e692-b459-42d0-8c4a-ea0ea84be251"
      },
      "execution_count": null,
      "outputs": [
        {
          "output_type": "stream",
          "name": "stdout",
          "text": [
            "15\n"
          ]
        }
      ]
    },
    {
      "cell_type": "code",
      "source": [
        "# Using NumPy arrays\n",
        "import numpy as np\n",
        "\n",
        "a = np.array([1, 2, 3, 4, 5])\n",
        "sum_result = np.sum(a)\n",
        "print(sum_result)  # Output: 15\n"
      ],
      "metadata": {
        "colab": {
          "base_uri": "https://localhost:8080/"
        },
        "id": "Jf9RULF4aUzs",
        "outputId": "82bea906-ed79-4b81-fa12-5d1e5894bfed"
      },
      "execution_count": null,
      "outputs": [
        {
          "output_type": "stream",
          "name": "stdout",
          "text": [
            "15\n"
          ]
        }
      ]
    },
    {
      "cell_type": "code",
      "source": [
        "# Using for-loops\n",
        "import numpy as np\n",
        "\n",
        "a = [1, 2, 3, 4, 5]\n",
        "result = []\n",
        "for num in a:\n",
        "    result.append(num ** 2)\n",
        "print(result)  # Output: [1, 4, 9, 16, 25]\n"
      ],
      "metadata": {
        "colab": {
          "base_uri": "https://localhost:8080/"
        },
        "id": "hqJRAajpaU3H",
        "outputId": "3349d596-dbef-4e3f-d0e4-fcfe542251c7"
      },
      "execution_count": null,
      "outputs": [
        {
          "output_type": "stream",
          "name": "stdout",
          "text": [
            "[1, 4, 9, 16, 25]\n"
          ]
        }
      ]
    },
    {
      "cell_type": "code",
      "source": [
        "# Using NumPy arrays\n",
        "import numpy as np\n",
        "\n",
        "a = np.array([1, 2, 3, 4, 5])\n",
        "result = np.square(a)\n",
        "print(result)  # Output: [ 1  4  9 16 25]\n"
      ],
      "metadata": {
        "colab": {
          "base_uri": "https://localhost:8080/"
        },
        "id": "XgcEO4oiaU7a",
        "outputId": "35ca7185-7ee3-482f-a180-c254a1353d3c"
      },
      "execution_count": null,
      "outputs": [
        {
          "output_type": "stream",
          "name": "stdout",
          "text": [
            "[ 1  4  9 16 25]\n"
          ]
        }
      ]
    },
    {
      "cell_type": "code",
      "source": [
        "# Using a for-loop\n",
        "a = [1, 2, 3, 4, 5]\n",
        "b = [6, 7, 8, 9, 10]\n",
        "result = []\n",
        "for i in range(len(a)):\n",
        "    result.append(a[i] + b[i])\n",
        "print(result)"
      ],
      "metadata": {
        "id": "V9Ukm2qRaU-b",
        "colab": {
          "base_uri": "https://localhost:8080/"
        },
        "outputId": "524eeb52-5a3a-48f5-beb4-172869216f47"
      },
      "execution_count": null,
      "outputs": [
        {
          "output_type": "stream",
          "name": "stdout",
          "text": [
            "[7, 9, 11, 13, 15]\n"
          ]
        }
      ]
    },
    {
      "cell_type": "code",
      "source": [
        "# Using NumPy arrays\n",
        "import numpy as np\n",
        "a = np.array([1, 2, 3, 4, 5])\n",
        "b = np.array([6, 7, 8, 9, 10])\n",
        "result = a + b\n",
        "print(result)\n",
        "result[0]"
      ],
      "metadata": {
        "id": "1LJbthKZaVBb",
        "colab": {
          "base_uri": "https://localhost:8080/"
        },
        "outputId": "eec2e1d6-868f-4038-c920-44811a7a7011"
      },
      "execution_count": null,
      "outputs": [
        {
          "output_type": "stream",
          "name": "stdout",
          "text": [
            "[ 7  9 11 13 15]\n"
          ]
        },
        {
          "output_type": "execute_result",
          "data": {
            "text/plain": [
              "7"
            ]
          },
          "metadata": {},
          "execution_count": 111
        }
      ]
    },
    {
      "cell_type": "code",
      "source": [
        "# Using a for-loop\n",
        "def multiply_list_by_constant(lst, constant):\n",
        "    result = []\n",
        "    for num in lst:\n",
        "        result.append(num * constant)\n",
        "    return result\n",
        "\n",
        "numbers = [1, 2, 3, 4, 5]\n",
        "constant = 2\n",
        "result = multiply_list_by_constant(numbers, constant)\n",
        "print(result)  # Output: [2, 4, 6, 8, 10]\n"
      ],
      "metadata": {
        "colab": {
          "base_uri": "https://localhost:8080/"
        },
        "id": "_2lLcB0faVEs",
        "outputId": "fb4a1ebd-ec5d-4ba2-d200-8b25188ee33c"
      },
      "execution_count": null,
      "outputs": [
        {
          "output_type": "stream",
          "name": "stdout",
          "text": [
            "[2, 4, 6, 8, 10]\n"
          ]
        }
      ]
    },
    {
      "cell_type": "code",
      "source": [
        "# Using NumPy arrays\n",
        "import numpy as np\n",
        "\n",
        "numbers = np.array([1, 2, 3, 4, 5])\n",
        "constant = 2\n",
        "result = numbers * constant\n",
        "print(result)  # Output: [2 4 6 8 10]\n"
      ],
      "metadata": {
        "colab": {
          "base_uri": "https://localhost:8080/"
        },
        "id": "_-_lBbpuaVHj",
        "outputId": "75c2dfee-4cc8-4ca7-eb09-0db1536a80a3"
      },
      "execution_count": null,
      "outputs": [
        {
          "output_type": "stream",
          "name": "stdout",
          "text": [
            "[ 2  4  6  8 10]\n"
          ]
        }
      ]
    },
    {
      "cell_type": "markdown",
      "source": [
        "Previously we saw a function using for-loops to do a rules-based sentiment analysis. Let's see how it can be optimized using comprehensions."
      ],
      "metadata": {
        "id": "d6AKzDgDcn4u"
      }
    },
    {
      "cell_type": "code",
      "source": [
        "def sentiment_detection(sentence):\n",
        "    positive_words = ('happy', 'sunny', 'positive', 'triumphant', 'optimistic', 'wonderful')\n",
        "    negative_words = ('sad', 'terrible', 'frightening', 'rainy', 'scary')\n",
        "\n",
        "    positive = any(sentence.count(i) > 0 for i in positive_words)\n",
        "    negative = any(sentence.count(i) > 0 for i in negative_words)\n",
        "\n",
        "    if positive == negative == False:\n",
        "        return \"neutral\"\n",
        "    elif positive != negative:\n",
        "        return \"positive\" if positive else \"negative\"\n",
        "    else:\n",
        "        return \"mixed\"\n"
      ],
      "metadata": {
        "id": "3LqSPlweaVKO"
      },
      "execution_count": null,
      "outputs": []
    },
    {
      "cell_type": "code",
      "source": [],
      "metadata": {
        "colab": {
          "base_uri": "https://localhost:8080/"
        },
        "id": "QIvybknCLlxi",
        "outputId": "e21388b6-c4c2-42e2-bd1f-c8ea38a8533c"
      },
      "execution_count": null,
      "outputs": [
        {
          "output_type": "execute_result",
          "data": {
            "text/plain": [
              "False"
            ]
          },
          "metadata": {},
          "execution_count": 121
        }
      ]
    },
    {
      "cell_type": "code",
      "source": [
        "positive_words = ('happy', 'sunny', 'positive', 'triumphant', 'optimistic', 'wonderful')\n",
        "sentence = 'I am'\n",
        "any(sentence.count(i) > 0 for i in positive_words)\n",
        "#any([True])"
      ],
      "metadata": {
        "colab": {
          "base_uri": "https://localhost:8080/"
        },
        "id": "bbbPj3e0eAWl",
        "outputId": "3b29c19b-e900-4d55-ba14-e3455302c525"
      },
      "execution_count": null,
      "outputs": [
        {
          "output_type": "execute_result",
          "data": {
            "text/plain": [
              "False"
            ]
          },
          "metadata": {},
          "execution_count": 124
        }
      ]
    },
    {
      "cell_type": "markdown",
      "source": [
        "Now a review of Pandas and it's built in techniques for data analysis"
      ],
      "metadata": {
        "id": "yZnXPL0vlH5t"
      }
    },
    {
      "cell_type": "code",
      "source": [
        "import pandas as pd\n",
        "import numpy as np\n",
        "\n",
        "# Creating two DataFrames\n",
        "df1 = pd.DataFrame({'ID': [1, 2, 3, 4],\n",
        "                    'Name': ['Alice', 'Bob', 'Charlie', 'David'],\n",
        "                    'Age': [25, 30, 35, 40]})\n",
        "\n",
        "df2 = pd.DataFrame({'ID': [1, 2, 3, 5],\n",
        "                    'Salary': [50000, 60000, 70000, 80000]})\n",
        "\n",
        "#CHALLENGE Next we will think of a way to do the merge so we don't lose any data.\n",
        "# Merging DataFrames\n",
        "merged_df = pd.merge(df1, df2, on='ID', how='left')\n",
        "print(merged_df)\n",
        "# Output:\n",
        "#    ID     Name  Age   Salary\n",
        "# 0   1    Alice   25  50000.0\n",
        "# 1   2      Bob   30  60000.0\n",
        "# 2   3  Charlie   35  70000.0\n",
        "# 3   4    David   40      NaN\n",
        "\n"
      ],
      "metadata": {
        "colab": {
          "base_uri": "https://localhost:8080/"
        },
        "id": "h7Lvg3BelG8B",
        "outputId": "9b2ff4c6-bf8a-4e2d-ec8b-1a626e286cb2"
      },
      "execution_count": null,
      "outputs": [
        {
          "output_type": "stream",
          "name": "stdout",
          "text": [
            "   ID     Name  Age   Salary\n",
            "0   1    Alice   25  50000.0\n",
            "1   2      Bob   30  60000.0\n",
            "2   3  Charlie   35  70000.0\n",
            "3   4    David   40      NaN\n"
          ]
        }
      ]
    },
    {
      "cell_type": "code",
      "source": [
        "#let's merge them so no data is lost\n"
      ],
      "metadata": {
        "id": "JKZD_ys5y1vO"
      },
      "execution_count": null,
      "outputs": []
    },
    {
      "cell_type": "code",
      "source": [
        "# Creating a new column using a lambda function\n",
        "merged_df['Age_Category'] = merged_df['Age'].apply(lambda x: 'Youth' if x < 30 else 'Adult')\n",
        "print(merged_df)\n",
        "# Output:\n",
        "#    ID     Name  Age   Salary Age_Category\n",
        "# 0   1    Alice   25  50000.0        Youth\n",
        "# 1   2      Bob   30  60000.0        Adult\n",
        "# 2   3  Charlie   35  70000.0        Adult\n",
        "# 3   4    David   40      NaN        Adult\n",
        "\n",
        "# Creating a new column using a NumPy function\n",
        "merged_df['Age_Squared'] = np.square(merged_df['Age'])\n",
        "print(merged_df)\n",
        "# Output:\n",
        "#    ID     Name  Age   Salary Age_Category  Age_Squared\n",
        "# 0   1    Alice   25  50000.0        Youth          625\n",
        "# 1   2      Bob   30  60000.0        Adult          900\n",
        "# 2   3  Charlie   35  70000.0        Adult         1225\n",
        "# 3   4    David   40      NaN        Adult         1600"
      ],
      "metadata": {
        "colab": {
          "base_uri": "https://localhost:8080/"
        },
        "id": "pLGImZhNxxI_",
        "outputId": "4db0d946-12a4-46dc-8f8b-f476304fa4d0"
      },
      "execution_count": null,
      "outputs": [
        {
          "output_type": "stream",
          "name": "stdout",
          "text": [
            "   ID     Name  Age   Salary Age_Category\n",
            "0   1    Alice   25  50000.0        Youth\n",
            "1   2      Bob   30  60000.0        Adult\n",
            "2   3  Charlie   35  70000.0        Adult\n",
            "3   4    David   40      NaN        Adult\n",
            "   ID     Name  Age   Salary Age_Category  Age_Squared\n",
            "0   1    Alice   25  50000.0        Youth          625\n",
            "1   2      Bob   30  60000.0        Adult          900\n",
            "2   3  Charlie   35  70000.0        Adult         1225\n",
            "3   4    David   40      NaN        Adult         1600\n"
          ]
        }
      ]
    },
    {
      "cell_type": "code",
      "source": [],
      "metadata": {
        "id": "REk5G8ep34uq"
      },
      "execution_count": null,
      "outputs": []
    },
    {
      "cell_type": "markdown",
      "source": [
        "NumPy offers some amazing functions for handling different conditions"
      ],
      "metadata": {
        "id": "Bs9Lhn1N267M"
      }
    },
    {
      "cell_type": "code",
      "source": [
        "data = {'A': [1, 2, 3, 4, 5], 'B': [10, 20, 30, 40, 50]}\n",
        "df = pd.DataFrame(data)\n",
        "\n",
        "# Define the conditions\n",
        "conditions = [\n",
        "    df['A'] < 3,\n",
        "    df['A'] >= 3,\n",
        "]\n",
        "\n",
        "# Define the functions corresponding to each condition\n",
        "def function1(x):\n",
        "    return x * 2\n",
        "\n",
        "def function2(x):\n",
        "    return x + 5\n",
        "\n",
        "# Vectorize the functions\n",
        "vectorized_function1 = np.vectorize(function1)\n",
        "vectorized_function2 = np.vectorize(function2)\n",
        "\n",
        "# Apply the functions based on the conditions and create the new column\n",
        "df['C'] = np.select(conditions, [vectorized_function1(df['A']), vectorized_function2(df['B'])], default=np.nan)\n",
        "\n",
        "# Display the updated DataFrame\n",
        "print(df)"
      ],
      "metadata": {
        "id": "z0954_ul25M5",
        "colab": {
          "base_uri": "https://localhost:8080/"
        },
        "outputId": "b8ca9166-fec4-4d2a-fe11-524f3f9ad71d"
      },
      "execution_count": null,
      "outputs": [
        {
          "output_type": "stream",
          "name": "stdout",
          "text": [
            "   A   B     C\n",
            "0  1  10   2.0\n",
            "1  2  20   4.0\n",
            "2  3  30  35.0\n",
            "3  4  40  45.0\n",
            "4  5  50  55.0\n"
          ]
        }
      ]
    },
    {
      "cell_type": "code",
      "source": [
        "data = {'A': [1, 2, 3, 4, 5], 'B': [10, 20, 30, 40, 50]}\n",
        "df = pd.DataFrame(data)\n",
        "df\n",
        "# Define the conditions\n",
        "conditions = [\n",
        "    df['A'] < 3,\n",
        "    df['A'] >= 3\n",
        "]\n",
        "\n",
        "# Define the functions corresponding to each condition\n",
        "def function1(df):\n",
        "    return df['A'] * 2 + df['B']\n",
        "\n",
        "def function2(df):\n",
        "    return df['A'] + df['B'] * 2\n",
        "\n",
        "# Apply the functions based on the conditions and create the new column\n",
        "df['C'] = np.select(conditions, [function1(df), function2(df)], default=np.nan)\n",
        "\n",
        "# Display the updated DataFrame\n",
        "print(df)"
      ],
      "metadata": {
        "id": "9bY-nqF44gqU",
        "colab": {
          "base_uri": "https://localhost:8080/"
        },
        "outputId": "45b1ad3c-91ff-4418-ce1e-6af6124b0390"
      },
      "execution_count": null,
      "outputs": [
        {
          "output_type": "stream",
          "name": "stdout",
          "text": [
            "   A   B      C\n",
            "0  1  10   12.0\n",
            "1  2  20   24.0\n",
            "2  3  30   63.0\n",
            "3  4  40   84.0\n",
            "4  5  50  105.0\n"
          ]
        }
      ]
    },
    {
      "cell_type": "markdown",
      "source": [
        "Just like SQL, pandas also offers the option to group/aggregate data"
      ],
      "metadata": {
        "id": "O8BJfrt72jbK"
      }
    },
    {
      "cell_type": "code",
      "source": [
        "import pandas as pd\n",
        "\n",
        "# Creating a sample DataFrame\n",
        "data = {\n",
        "    'Product': ['A', 'B', 'C', 'A', 'B', 'C'],\n",
        "    'Category': ['X', 'Y', 'Z', 'X', 'Y', 'Z'],\n",
        "    'Sales': [100, 150, 200, 250, 300, 350]\n",
        "}\n",
        "df = pd.DataFrame(data)\n",
        "\n",
        "# Grouping the DataFrame by 'Category' and calculating the total sales\n",
        "grouped_df = df.groupby('Category').mean()\n",
        "\n",
        "print(grouped_df)\n",
        "\n",
        "\n"
      ],
      "metadata": {
        "id": "-tPSPrsA6UT3",
        "colab": {
          "base_uri": "https://localhost:8080/"
        },
        "outputId": "c6c8887c-1f8c-4e1e-b19f-d4d29c9aefc1"
      },
      "execution_count": null,
      "outputs": [
        {
          "output_type": "stream",
          "name": "stdout",
          "text": [
            "          Sales\n",
            "Category       \n",
            "X         175.0\n",
            "Y         225.0\n",
            "Z         275.0\n"
          ]
        },
        {
          "output_type": "stream",
          "name": "stderr",
          "text": [
            "<ipython-input-132-5cbc87cee543>:12: FutureWarning: The default value of numeric_only in DataFrameGroupBy.mean is deprecated. In a future version, numeric_only will default to False. Either specify numeric_only or select only columns which should be valid for the function.\n",
            "  grouped_df = df.groupby('Category').mean()\n"
          ]
        }
      ]
    }
  ]
}