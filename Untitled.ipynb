{
 "cells": [
  {
   "cell_type": "code",
   "execution_count": 4,
   "id": "cf7fe471",
   "metadata": {},
   "outputs": [
    {
     "ename": "SyntaxError",
     "evalue": "invalid syntax (4161073879.py, line 2)",
     "output_type": "error",
     "traceback": [
      "\u001b[1;36m  Cell \u001b[1;32mIn[4], line 2\u001b[1;36m\u001b[0m\n\u001b[1;33m    print(text)import requests\u001b[0m\n\u001b[1;37m               ^\u001b[0m\n\u001b[1;31mSyntaxError\u001b[0m\u001b[1;31m:\u001b[0m invalid syntax\n"
     ]
    }
   ],
   "source": [
    "#extracted text\n",
    "print(text)import requests\n",
    "from bs4 import BeautifulSoup\n",
    "\n",
    "# Make the HTTP request\n",
    "url = 'https://medium.com/towards-data-science/can-chatgpt-write-better-sql-than-a-data-analyst-f079518efab2'\n",
    "response = requests.get(url)\n",
    "\n",
    "# Parse the HTML content with Beautiful Soup\n",
    "soup = BeautifulSoup(response.content, 'html.parser')\n",
    "\n",
    "# Remove unwanted elements (script, style, comments, etc.)\n",
    "for element in soup(['script', 'style', 'comment']):\n",
    "    element.extract()\n",
    "\n",
    "# Extract the visible text\n",
    "text = soup.get_text(separator=' ')\n",
    "\n",
    "# Print the"
   ]
  },
  {
   "cell_type": "code",
   "execution_count": 5,
   "id": "58484320",
   "metadata": {},
   "outputs": [],
   "source": [
    "def get_and_parse(url):\n",
    "  response = requests.get(url)\n",
    "\n",
    "# Parse the HTML content with Beautiful Soup\n",
    "  soup = BeautifulSoup(response.content, 'html.parser')\n",
    "\n",
    "# Remove unwanted elements (script, style, comments, etc.)\n",
    "  for element in soup(['script', 'style', 'comment']):\n",
    "      element.extract()\n",
    "\n",
    "# Extract the visible text\n",
    "  text = soup.get_text(separator=' ')\n",
    "  return text\n",
    "\n"
   ]
  },
  {
   "cell_type": "code",
   "execution_count": null,
   "id": "a7e052dd",
   "metadata": {},
   "outputs": [],
   "source": []
  }
 ],
 "metadata": {
  "kernelspec": {
   "display_name": "Python 3 (ipykernel)",
   "language": "python",
   "name": "python3"
  },
  "language_info": {
   "codemirror_mode": {
    "name": "ipython",
    "version": 3
   },
   "file_extension": ".py",
   "mimetype": "text/x-python",
   "name": "python",
   "nbconvert_exporter": "python",
   "pygments_lexer": "ipython3",
   "version": "3.11.4"
  }
 },
 "nbformat": 4,
 "nbformat_minor": 5
}
